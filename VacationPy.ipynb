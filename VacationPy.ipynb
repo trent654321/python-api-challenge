{
 "cells": [
  {
   "cell_type": "markdown",
   "metadata": {},
   "source": [
    "# VacationPy\n",
    "----\n",
    "\n",
    "#### Note\n",
    "* Keep an eye on your API usage. Use https://developers.google.com/maps/reporting/gmp-reporting as reference for how to monitor your usage and billing.\n",
    "\n",
    "* Instructions have been included for each segment. You do not have to follow them exactly, but they are included to help you think through the steps."
   ]
  },
  {
   "cell_type": "code",
   "execution_count": 1,
   "metadata": {},
   "outputs": [],
   "source": [
    "# Dependencies and Setup\n",
    "import matplotlib.pyplot as plt\n",
    "import pandas as pd\n",
    "import numpy as np\n",
    "import requests\n",
    "import gmaps\n",
    "import os\n",
    "\n",
    "# Import API key\n",
    "from api_keys import g_key"
   ]
  },
  {
   "cell_type": "markdown",
   "metadata": {},
   "source": [
    "### Store Part I results into DataFrame\n",
    "* Load the csv exported in Part I to a DataFrame"
   ]
  },
  {
   "cell_type": "code",
   "execution_count": 13,
   "metadata": {},
   "outputs": [],
   "source": [
    "df = pd.read_csv('./output/city_weather.csv')\n",
    "humidity_df = df"
   ]
  },
  {
   "cell_type": "markdown",
   "metadata": {},
   "source": [
    "### Humidity Heatmap\n",
    "* Configure gmaps.\n",
    "* Use the Lat and Lng as locations and Humidity as the weight.\n",
    "* Add Heatmap layer to map."
   ]
  },
  {
   "cell_type": "code",
   "execution_count": 15,
   "metadata": {},
   "outputs": [],
   "source": [
    "gmaps.configure(api_key=g_key)"
   ]
  },
  {
   "cell_type": "code",
   "execution_count": 21,
   "metadata": {},
   "outputs": [
    {
     "data": {
      "application/vnd.jupyter.widget-view+json": {
       "model_id": "4cdae4914e924c78a96299ff7f38a0e1",
       "version_major": 2,
       "version_minor": 0
      },
      "text/plain": [
       "Figure(layout=FigureLayout(height='420px'))"
      ]
     },
     "metadata": {},
     "output_type": "display_data"
    }
   ],
   "source": [
    "humidity_df.dropna(inplace = True)\n",
    "locations = humidity_df[['Lat', 'Lng']]\n",
    "humidity = humidity_df['Humidity'].astype(float)\n",
    "fig = gmaps.figure()\n",
    "heat_layer = gmaps.heatmap_layer(locations, weights=humidity, \n",
    "                                 dissipating=False, max_intensity=10,\n",
    "                                 point_radius=1)\n",
    "fig.add_layer(heat_layer)\n",
    "fig"
   ]
  },
  {
   "cell_type": "markdown",
   "metadata": {},
   "source": [
    "### Create new DataFrame fitting weather criteria\n",
    "* Narrow down the cities to fit weather conditions.\n",
    "* Drop any rows will null values."
   ]
  },
  {
   "cell_type": "code",
   "execution_count": 16,
   "metadata": {},
   "outputs": [
    {
     "name": "stdout",
     "output_type": "stream",
     "text": [
      "579\n",
      "284\n",
      "158\n",
      "43\n"
     ]
    }
   ],
   "source": [
    "print(len(df))\n",
    "df = df.drop(df[df.Max_Temp < 70].index)\n",
    "print(len(df))\n",
    "df = df.drop(df[df.Max_Temp > 80].index)\n",
    "print(len(df))\n",
    "df = df.drop(df[df.Cloudiness > 10].index)\n",
    "print(len(df))"
   ]
  },
  {
   "cell_type": "markdown",
   "metadata": {},
   "source": [
    "### Hotel Map\n",
    "* Store into variable named `hotel_df`.\n",
    "* Add a \"Hotel Name\" column to the DataFrame.\n",
    "* Set parameters to search for hotels with 5000 meters.\n",
    "* Hit the Google Places API for each city's coordinates.\n",
    "* Store the first Hotel result into the DataFrame.\n",
    "* Plot markers on top of the heatmap."
   ]
  },
  {
   "cell_type": "code",
   "execution_count": 17,
   "metadata": {},
   "outputs": [],
   "source": [
    "hotel_df = df"
   ]
  },
  {
   "cell_type": "code",
   "execution_count": 49,
   "metadata": {},
   "outputs": [
    {
     "name": "stdout",
     "output_type": "stream",
     "text": [
      "61.67 96.37\n",
      "No result\n",
      "-23.1203 -134.9692\n",
      "No result\n",
      "24.6877 46.7219\n",
      "No result\n",
      "65.282 -126.8329\n",
      "No result\n",
      "71.9667 102.5\n",
      "No result\n",
      "-1.7656 -55.8661\n",
      "No result\n",
      "54.7804 -127.1743\n",
      "No result\n",
      "43.65 51.2\n",
      "No result\n",
      "-5.1989 -35.4608\n",
      "No result\n",
      "43.3 52.8\n",
      "No result\n",
      "16.1833 -22.9167\n",
      "No result\n",
      "-22.9661 -42.0278\n",
      "No result\n",
      "29.105999999999998 58.357\n",
      "No result\n",
      "44.7834 -75.3826\n",
      "No result\n",
      "-21.6403 -41.0511\n",
      "No result\n",
      "41.7597 86.1469\n",
      "No result\n",
      "-15.7667 128.7333\n",
      "No result\n",
      "42.1167 118.7833\n",
      "No result\n",
      "39.7684 -86.1555\n",
      "No result\n",
      "-2.9248 -39.9167\n",
      "No result\n",
      "-20.5167 57.5167\n",
      "No result\n",
      "29.1081 21.2869\n",
      "No result\n",
      "-20.0064 57.6608\n",
      "No result\n",
      "-19.9842 57.6142\n",
      "No result\n",
      "29.9697 40.2064\n",
      "No result\n",
      "45.0205 -93.21799999999999\n",
      "No result\n",
      "-16.1944 -55.9675\n",
      "No result\n",
      "39.1763 8.9718\n",
      "No result\n",
      "-1.5746 9.2618\n",
      "No result\n",
      "42.0156 121.6589\n",
      "No result\n",
      "39.8708 16.5312\n",
      "No result\n",
      "-3.2778 -39.2689\n",
      "No result\n",
      "-3.432 10.6554\n",
      "No result\n",
      "-15.89 -52.2567\n",
      "No result\n",
      "32.1167 20.0667\n",
      "No result\n",
      "42.2683 118.9636\n",
      "No result\n",
      "37.9407 22.9573\n",
      "No result\n",
      "39.8885 4.2658\n",
      "No result\n",
      "37.6667 21.6167\n",
      "No result\n",
      "-9.4467 -46.3003\n",
      "No result\n",
      "-14.4086 -56.4461\n",
      "No result\n",
      "5.8833 -56.3167\n",
      "No result\n",
      "30.5803 66.9961\n",
      "No result\n"
     ]
    }
   ],
   "source": [
    "#not working\n",
    "hotel_name = []\n",
    "locations = []\n",
    "for index, row in hotel_df.iterrows():\n",
    "    print(row['Lat'], row['Lng'])\n",
    "    target_type = \"hotel\"\n",
    "    radius = 5000\n",
    "    city_coords = row['Lat'], row['Lng']\n",
    "    params = {\n",
    "        \"location\": city_coords,\n",
    "        \"types\": target_type,\n",
    "        \"radius\": radius,\n",
    "        \"key\": g_key\n",
    "    }\n",
    "    base_url = \"https://maps.googleapis.com/maps/api/place/nearbysearch/json\"\n",
    "    response = requests.get(base_url, params)\n",
    "    data=response.json()\n",
    "    try:\n",
    "        name = data['results'][0]['name']\n",
    "        lat =data['results'][0]['geometry']['location']['lat']\n",
    "        lng = data['results'][0]['geometry']['location']['lng']\n",
    "        locations.append([lat,lng])\n",
    "        hotel_name.append(name)\n",
    "    except:\n",
    "        print('No result')\n",
    "\n"
   ]
  },
  {
   "cell_type": "code",
   "execution_count": null,
   "metadata": {},
   "outputs": [],
   "source": [
    "# NOTE: Do not change any of the code in this cell\n",
    "\n",
    "# Using the template add the hotel marks to the heatmap\n",
    "info_box_template = \"\"\"\n",
    "<dl>\n",
    "<dt>Name</dt><dd>{Hotel Name}</dd>\n",
    "<dt>City</dt><dd>{City}</dd>\n",
    "<dt>Country</dt><dd>{Country}</dd>\n",
    "</dl>\n",
    "\"\"\"\n",
    "# Store the DataFrame Row\n",
    "# NOTE: be sure to update with your DataFrame name\n",
    "hotel_info = [info_box_template.format(**row) for index, row in hotel_df.iterrows()]\n",
    "locations = hotel_df[[\"Lat\", \"Lng\"]]"
   ]
  },
  {
   "cell_type": "code",
   "execution_count": 48,
   "metadata": {},
   "outputs": [
    {
     "data": {
      "text/plain": [
       "[]"
      ]
     },
     "execution_count": 48,
     "metadata": {},
     "output_type": "execute_result"
    }
   ],
   "source": [
    "# Add marker layer ontop of heat map\n",
    "\n",
    "\n",
    "# Display figure\n",
    "locations"
   ]
  },
  {
   "cell_type": "code",
   "execution_count": null,
   "metadata": {},
   "outputs": [],
   "source": []
  }
 ],
 "metadata": {
  "kernelspec": {
   "display_name": "Python 3",
   "language": "python",
   "name": "python3"
  },
  "language_info": {
   "codemirror_mode": {
    "name": "ipython",
    "version": 3
   },
   "file_extension": ".py",
   "mimetype": "text/x-python",
   "name": "python",
   "nbconvert_exporter": "python",
   "pygments_lexer": "ipython3",
   "version": "3.6.10"
  },
  "latex_envs": {
   "LaTeX_envs_menu_present": true,
   "autoclose": false,
   "autocomplete": true,
   "bibliofile": "biblio.bib",
   "cite_by": "apalike",
   "current_citInitial": 1,
   "eqLabelWithNumbers": true,
   "eqNumInitial": 1,
   "hotkeys": {
    "equation": "Ctrl-E",
    "itemize": "Ctrl-I"
   },
   "labels_anchors": false,
   "latex_user_defs": false,
   "report_style_numbering": false,
   "user_envs_cfg": false
  }
 },
 "nbformat": 4,
 "nbformat_minor": 4
}
